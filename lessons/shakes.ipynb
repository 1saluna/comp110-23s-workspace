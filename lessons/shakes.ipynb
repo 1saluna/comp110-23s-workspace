{
 "cells": [
  {
   "attachments": {},
   "cell_type": "markdown",
   "metadata": {},
   "source": [
    "# Quantifying Shakespeare\n",
    "Analyzing the frequencies of different letters in Shakespeare's work\n",
    "\n",
    "(Data from: bit.ly/shakespeare-txt)\n",
    "\n",
    "In this Notebook, we will: \n",
    "1. Read all of Shakespeare's work into a list of strings\n",
    "2. Count the frequencies of letters used\n",
    "3. Visualize the frequencies with a bar graph"
   ]
  },
  {
   "attachments": {},
   "cell_type": "markdown",
   "metadata": {},
   "source": [
    "## Read the lines of the data"
   ]
  },
  {
   "cell_type": "code",
   "execution_count": 2,
   "metadata": {},
   "outputs": [
    {
     "name": "stdout",
     "output_type": "stream",
     "text": [
      "124456\n"
     ]
    }
   ],
   "source": [
    "from io import TextIOWrapper\n",
    "\n",
    "def read_lines(filename: str) -> list[str]:\n",
    "    \"\"\"Read a .txt file into a list of strings for each line.\"\"\"\n",
    "    lines: list[str] = []\n",
    "    file_handle: TextIOWrapper = open(filename, \"r\", )\n",
    "    for line in file_handle: \n",
    "        #  strip leading and trailing whitespace \"  a dog  \" -> \"a dog\"\n",
    "        line = line.strip()\n",
    "        #  make everything lowercase\n",
    "        line = line.lower()\n",
    "        lines.append(line)\n",
    "    return lines\n",
    "\n",
    "shakes_lines: list[str] = read_lines(\"../t8.shakespeare.txt\")\n",
    "print(len(shakes_lines))"
   ]
  },
  {
   "cell_type": "code",
   "execution_count": 3,
   "metadata": {},
   "outputs": [],
   "source": [
    "def tally(counts: dict[str, int], key: str) -> None:\n",
    "    \"\"\"Mutate counts by increasing the value stores at key by 1.\"\"\"\n",
    "    if key in counts:\n",
    "        counts[key] += 1\n",
    "    else: \n",
    "        counts[key] = 1"
   ]
  },
  {
   "cell_type": "code",
   "execution_count": 4,
   "metadata": {},
   "outputs": [
    {
     "name": "stdout",
     "output_type": "stream",
     "text": [
      "{'a': 1}\n",
      "{'a': 2}\n",
      "{'a': 2, 'b': 1}\n"
     ]
    }
   ],
   "source": [
    "d: dict[str, str] = {}\n",
    "tally(d, \"a\")\n",
    "#d = (\"a\": 1)\n",
    "print(d)\n",
    "tally(d, \"a\")\n",
    "#d = (\"a\": 2)\n",
    "print(d)\n",
    "tally(d, \"b\")\n",
    "#d = (\"b\": 1)\n",
    "print(d)\n"
   ]
  },
  {
   "cell_type": "code",
   "execution_count": 9,
   "metadata": {},
   "outputs": [
    {
     "name": "stdout",
     "output_type": "stream",
     "text": [
      "{'t': 329775, 'h': 236868, 'i': 253990, 's': 248989, 'e': 447204, 'x': 5294, 'f': 80516, 'l': 170019, 'p': 58464, 'r': 237864, 'n': 243262, 'd': 149462, 'b': 61956, 'y': 94370, 'o': 314600, 'j': 4779, 'c': 88185, 'g': 68199, 'u': 128947, 'a': 289150, 'w': 89390, 'm': 111452, 'k': 35408, 'v': 37569, 'z': 1631, 'q': 3582}\n"
     ]
    }
   ],
   "source": [
    "def count_letters(lines: list[str]) -> dict[str, int]:\n",
    "    \"\"\"Function writing.\"\"\"\n",
    "    counts: dict[str, int] = {}\n",
    "    for line in lines: \n",
    "        for char in line:\n",
    "            if char.isalpha():\n",
    "                tally(counts, char)\n",
    "    return counts\n",
    "\n",
    "shakes_letters: dict[str, int] = count_letters(shakes_lines)\n",
    "print(shakes_letters)"
   ]
  },
  {
   "cell_type": "code",
   "execution_count": 14,
   "metadata": {},
   "outputs": [],
   "source": [
    "# Get list of items in a dictionary\n",
    "# print(shakes_letters)\n",
    "shakes_letters_list = list(shakes_letters.items())\n",
    "# print(shakes_letters_list)\n",
    "shakes_letters_list: sorted(shakes_letters_list)\n",
    "# print(shakes_letters_list)\n",
    "shakes_letters_sorted = dict(shakes_letters_list)\n",
    "# shakes_letters_sorted"
   ]
  },
  {
   "attachments": {},
   "cell_type": "markdown",
   "metadata": {},
   "source": [
    "# Visualize Data in Bar Graph"
   ]
  },
  {
   "cell_type": "code",
   "execution_count": null,
   "metadata": {},
   "outputs": [],
   "source": [
    "from matplotlib import pyplot\n",
    "\n",
    "pyplot.title(\"Letter Frequencies\")\n",
    "pyplot.xlabel(\"Letters\")\n",
    "pyplot.ylabel(\"Frequency\")\n",
    "x_values: list[str] = shakes_letters_sorted.keys() #  my letters\n",
    "y_values: list[int] = shakes_letters_sorted.values() #  my letter counts\n",
    "pyplot.bar(x_values, y_values)\n"
   ]
  }
 ],
 "metadata": {
  "kernelspec": {
   "display_name": "Python 3",
   "language": "python",
   "name": "python3"
  },
  "language_info": {
   "codemirror_mode": {
    "name": "ipython",
    "version": 3
   },
   "file_extension": ".py",
   "mimetype": "text/x-python",
   "name": "python",
   "nbconvert_exporter": "python",
   "pygments_lexer": "ipython3",
   "version": "3.11.1"
  },
  "orig_nbformat": 4,
  "vscode": {
   "interpreter": {
    "hash": "aee8b7b246df8f9039afb4144a1f6fd8d2ca17a180786b69acc140d282b71a49"
   }
  }
 },
 "nbformat": 4,
 "nbformat_minor": 2
}
